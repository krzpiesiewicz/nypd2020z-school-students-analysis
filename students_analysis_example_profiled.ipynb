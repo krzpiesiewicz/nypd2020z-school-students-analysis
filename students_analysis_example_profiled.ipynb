{
 "cells": [
  {
   "cell_type": "markdown",
   "metadata": {},
   "source": [
    "# Profiling"
   ]
  },
  {
   "cell_type": "code",
   "execution_count": 2,
   "metadata": {},
   "outputs": [
    {
     "name": "stdout",
     "output_type": "stream",
     "text": [
      " \n",
      "*** Profile printout saved to text file 'profile_analysis.txt'. \n"
     ]
    }
   ],
   "source": [
    "%%prun -s cumulative -T profile_analysis.txt\n",
    "\n",
    "from school_students_analysis.io import load_schools, load_childrens_ages\n",
    "from school_students_analysis import students_per_teacher_by_the_type_of_school, students_by_year_of_birth\n",
    "\n",
    "# Loading the data\n",
    "\n",
    "schools_file = \"Wykaz_szkół_i_placówek_wg_stanu_na_30.IX._2018_w.5.xlsx\"\n",
    "schools = load_schools(schools_file)\n",
    "\n",
    "population_file = \"population_data/tabela12.xls\"\n",
    "population_file_sheets_names = [\n",
    "    \"Dolnośląskie\", \"Kujawsko-pomorskie\",\"Lubelskie\", \"Lubuskie\", \"Łódzkie\",\n",
    "    \"Małopolskie\", \"Mazowieckie\", \"Opolskie\", \"Podkarpackie\", \"Podlaskie\",\n",
    "    \"Pomorskie\", \"Śląske\", # Here is a typo made by the excel file creator\n",
    "    \"Świętokrzyskie\", \"Warmińsko-mazurskie\", \"Wielkopolskie\", \"Zachodniopomorskie\"\n",
    "]\n",
    "childrens_ages = load_childrens_ages(population_file,\n",
    "                                     population_file_sheets_names)\n",
    "\n",
    "# Calculating students per teacher statistics\n",
    "\n",
    "students_per_teacher = students_per_teacher_by_the_type_of_school(schools)\n",
    "students_per_teacher.get_stats_in_each_district()\n",
    "students_per_teacher.get_stats_in_total_for_urban_and_rural_areas()\n",
    "\n",
    "# Calculating students by year of birth statistics\n",
    "\n",
    "students_by_year_of_birth = students_by_year_of_birth(schools, childrens_ages)\n",
    "students_by_year_of_birth.get_stats_in_each_district()\n",
    "students_by_year_of_birth.get_stats_in_total_for_urban_and_rural_areas()"
   ]
  }
 ],
 "metadata": {
  "kernelspec": {
   "display_name": "Python 3",
   "language": "python",
   "name": "python3"
  },
  "language_info": {
   "codemirror_mode": {
    "name": "ipython",
    "version": 3
   },
   "file_extension": ".py",
   "mimetype": "text/x-python",
   "name": "python",
   "nbconvert_exporter": "python",
   "pygments_lexer": "ipython3",
   "version": "3.9.1"
  }
 },
 "nbformat": 4,
 "nbformat_minor": 1
}
